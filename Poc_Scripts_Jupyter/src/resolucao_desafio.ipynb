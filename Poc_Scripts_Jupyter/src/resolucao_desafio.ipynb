{
 "cells": [
  {
   "cell_type": "code",
   "execution_count": 5,
   "metadata": {},
   "outputs": [],
   "source": [
    "import os\n",
    "import requests\n",
    "from html.parser import HTMLParser\n",
    "\n",
    "class CustomHTMLParser(HTMLParser):\n",
    "    def __init__(self, codigo):\n",
    "        super().__init__()\n",
    "        self.csrf_token = None\n",
    "        self.links = []\n",
    "        self.codigo = codigo\n",
    "        self.title_code = None\n",
    "        self.title_file = None\n",
    "        self.in_div = False\n",
    "        self.current_tag = None\n",
    "        self.old_tag = None\n",
    "\n",
    "    def handle_starttag(self, tag, attrs):\n",
    "        if tag == 'input':\n",
    "            attrs = dict(attrs)\n",
    "            if attrs.get('type') == 'hidden' and attrs.get('name') == 'csrf':\n",
    "                self.csrf_token = attrs.get('value')\n",
    "\n",
    "        if tag == 'a':\n",
    "            pass\n",
    "\n",
    "\n",
    "\n",
    "    def get_links(self):\n",
    "        return self.links\n"
   ]
  }
 ],
 "metadata": {
  "kernelspec": {
   "display_name": "Python 3 (ipykernel)",
   "language": "python",
   "name": "python3"
  },
  "language_info": {
   "codemirror_mode": {
    "name": "ipython",
    "version": 3
   },
   "file_extension": ".py",
   "mimetype": "text/x-python",
   "name": "python",
   "nbconvert_exporter": "python",
   "pygments_lexer": "ipython3",
   "version": "3.11.6"
  }
 },
 "nbformat": 4,
 "nbformat_minor": 4
}
