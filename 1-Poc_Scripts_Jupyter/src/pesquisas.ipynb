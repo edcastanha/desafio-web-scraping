{
 "cells": [
  {
   "cell_type": "markdown",
   "metadata": {},
   "source": [
    "### Dependecias e variaveis comuns"
   ]
  },
  {
   "cell_type": "code",
   "execution_count": null,
   "metadata": {},
   "outputs": [],
   "source": [
    "%pip install Scrapy\n",
    "%pip install BeautifulSoup\n",
    "import time\n",
    "\n",
    "html_content = '''\n",
    "<html><head>\n",
    "<title>Teste</title>\n",
    "</head>\n",
    "<body>\n",
    "<form method=\"post\">\n",
    "<input type=\"hidden\" name=\"csrf\" value=\"361a640d60897254975b73cd4a39e1f1bb2f320e51e41549d6fb97aa1fe75f42\">\n",
    "<div>\n",
    "<label for=\"codigo\">Código</label>\n",
    "</div>\n",
    "<div>\n",
    "<input type=\"text\" name=\"codigo\" id=\"codigo\">\n",
    "</div>\n",
    "<div>\n",
    "<input type=\"submit\">\n",
    "</div>\n",
    "</form>\n",
    "</body></html>\n",
    "'''\n"
   ]
  },
  {
   "cell_type": "markdown",
   "metadata": {},
   "source": [
    "## TESTE COM SCRAPY "
   ]
  },
  {
   "cell_type": "code",
   "execution_count": null,
   "metadata": {},
   "outputs": [],
   "source": [
    "import scrapy\n",
    "from scrapy.crawler import CrawlerProcess\n",
    "\n",
    "\n",
    "class MySpider(scrapy.Spider):\n",
    "    name = 'MySpider'\n",
    "\n",
    "    def start_requests(self):\n",
    "        yield scrapy.Request(url='data:text/html;charset=utf-8,{html}'.format(html=html_content), callback=self.parse)\n",
    "\n",
    "    def parse(self, response):\n",
    "        start_time = time.time()\n",
    "\n",
    "        # Exemplo de busca de elemento usando CSS\n",
    "        element = response.xpath('//input[@name=\"csrf\"]/@value').get()\n",
    "        \n",
    "        end_time = time.time()\n",
    "        elapsed_time = end_time - start_time\n",
    "\n",
    "        print(\"Resultado do scraping:\", element)\n",
    "        print(\"Tempo decorrido:\", elapsed_time, \"segundos\")\n",
    "\n",
    "process = CrawlerProcess()\n",
    "process.crawl(MySpider)\n",
    "process.start()\n"
   ]
  },
  {
   "cell_type": "markdown",
   "metadata": {},
   "source": [
    "## TESTE BeautifulSoup"
   ]
  },
  {
   "cell_type": "code",
   "execution_count": null,
   "metadata": {},
   "outputs": [],
   "source": [
    "from bs4 import BeautifulSoup\n",
    "\n",
    "start_time = time.time()\n",
    "\n",
    "soup = BeautifulSoup(html_content, 'html.parser')\n",
    "\n",
    "csrf_element = soup.find('input', {'type': 'hidden', 'name': 'csrf'})\n",
    "csrf_get = csrf_element['value'] if csrf_element and csrf_element.has_attr('value') else None\n",
    "\n",
    "end_time = time.time()\n",
    "elapsed_time = end_time - start_time\n",
    "\n",
    "print(\"Resultado do scraping:\", csrf_get)\n",
    "print(\"Tempo decorrido:\", elapsed_time, \"segundos\")"
   ]
  },
  {
   "cell_type": "code",
   "execution_count": null,
   "metadata": {},
   "outputs": [],
   "source": []
  }
 ],
 "metadata": {
  "kernelspec": {
   "display_name": "Python 3 (ipykernel)",
   "language": "python",
   "name": "python3"
  },
  "language_info": {
   "codemirror_mode": {
    "name": "ipython",
    "version": 3
   },
   "file_extension": ".py",
   "mimetype": "text/x-python",
   "name": "python",
   "nbconvert_exporter": "python",
   "pygments_lexer": "ipython3",
   "version": "3.11.6"
  }
 },
 "nbformat": 4,
 "nbformat_minor": 4
}
